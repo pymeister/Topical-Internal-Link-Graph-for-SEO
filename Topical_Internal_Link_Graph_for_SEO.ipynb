{
  "nbformat": 4,
  "nbformat_minor": 0,
  "metadata": {
    "colab": {
      "provenance": [],
      "authorship_tag": "ABX9TyOQK21ENbR41o9lxEl/TbAG",
      "include_colab_link": true
    },
    "kernelspec": {
      "name": "python3",
      "display_name": "Python 3"
    },
    "language_info": {
      "name": "python"
    }
  },
  "cells": [
    {
      "cell_type": "markdown",
      "metadata": {
        "id": "view-in-github",
        "colab_type": "text"
      },
      "source": [
        "<a href=\"https://colab.research.google.com/github/pymeister/Topical-Internal-Link-Graph-for-SEO/blob/main/Topical_Internal_Link_Graph_for_SEO.ipynb\" target=\"_parent\"><img src=\"https://colab.research.google.com/assets/colab-badge.svg\" alt=\"Open In Colab\"/></a>"
      ]
    },
    {
      "cell_type": "code",
      "execution_count": null,
      "metadata": {
        "id": "Q7naJmpPAh1J"
      },
      "outputs": [],
      "source": [
        "import matplotlib.pyplot as plt\n",
        "from matplotlib.pyplot import figure\n",
        "import networkx as nx\n",
        "from numpy import random as nprand\n",
        "import pandas as pd\n",
        "import random\n",
        "import re"
      ]
    },
    {
      "cell_type": "markdown",
      "source": [],
      "metadata": {
        "id": "TD6EIEoMArWO"
      }
    },
    {
      "cell_type": "code",
      "source": [
        "df = pd.read_csv(\"link-graph.csv\")"
      ],
      "metadata": {
        "id": "aThzkzlEArmG"
      },
      "execution_count": null,
      "outputs": []
    },
    {
      "cell_type": "markdown",
      "source": [],
      "metadata": {
        "id": "T9eXBkFRAvTp"
      }
    },
    {
      "cell_type": "code",
      "source": [
        "source = df['referring-w-cat'].tolist()\n",
        "source = [x.replace(\"https://importsem.com\",\"\") for x in source]\n",
        "\n",
        "target = df['link-w-cat'].tolist()\n",
        "target = [x.replace(\"https://importsem.com\",\"\") for x in target]\n",
        "\n",
        "links = list(zip(source,target))"
      ],
      "metadata": {
        "id": "vV__6b2UAvgG"
      },
      "execution_count": null,
      "outputs": []
    },
    {
      "cell_type": "markdown",
      "source": [],
      "metadata": {
        "id": "1xvX7SB8A0Es"
      }
    },
    {
      "cell_type": "code",
      "source": [
        "api_links = [x for x in zip(source, target) if \"/api\" in x[0]]\n",
        "media_links = [x for x in zip(source, target) if \"/media\" in x[0]]\n",
        "analytics_links = [x for x in zip(source, target) if \"/analytics\" in x[0]]\n",
        "automation_links = [x for x in zip(source, target) if \"/automation\" in x[0]]\n",
        "keywords_links = [x for x in zip(source, target) if \"/keywords\" in x[0]]\n",
        "nlp_links = [x for x in zip(source, target) if \"/nlp\" in x[0]]"
      ],
      "metadata": {
        "id": "7wZXqjVLA5LF"
      },
      "execution_count": null,
      "outputs": []
    },
    {
      "cell_type": "markdown",
      "source": [],
      "metadata": {
        "id": "0lrp8mkWA6Ni"
      }
    },
    {
      "cell_type": "code",
      "source": [
        "seed = 6\n",
        "nprand.seed(seed)\n",
        "random.seed(seed)\n",
        "\n",
        "G = nx.DiGraph(links)"
      ],
      "metadata": {
        "id": "QPkHMBULA8k_"
      },
      "execution_count": null,
      "outputs": []
    },
    {
      "cell_type": "markdown",
      "source": [],
      "metadata": {
        "id": "DQNHkE6NBF-e"
      }
    },
    {
      "cell_type": "code",
      "source": [
        "for node_id in G.nodes:\n",
        "    if \"api\" in node_id:\n",
        "        G.nodes[node_id][\"page_type\"] = \"api\"\n",
        "    elif \"media\" in node_id:\n",
        "        G.nodes[node_id][\"page_type\"] = \"media\"\n",
        "    elif \"analytics\" in node_id:\n",
        "        G.nodes[node_id][\"page_type\"] = \"analytics\"\n",
        "    elif \"automation\" in node_id:\n",
        "        G.nodes[node_id][\"page_type\"] = \"automation\"\n",
        "    elif \"keywords\" in node_id:\n",
        "        G.nodes[node_id][\"page_type\"] = \"keywords\"\n",
        "    elif \"nlp\" in node_id:\n",
        "        G.nodes[node_id][\"page_type\"] = \"nlp\"\n",
        "    else:\n",
        "      pass"
      ],
      "metadata": {
        "id": "djSWQtKKBGO8"
      },
      "execution_count": null,
      "outputs": []
    },
    {
      "cell_type": "markdown",
      "source": [],
      "metadata": {
        "id": "L6G97KutBJz0"
      }
    },
    {
      "cell_type": "code",
      "source": [
        "api = [v for v in G.nodes if G.nodes[v][\"page_type\"] == \"api\"]\n",
        "media = [v for v in G.nodes if G.nodes[v][\"page_type\"] == \"media\"]\n",
        "analytics = [v for v in G.nodes if G.nodes[v][\"page_type\"] == \"analytics\"]\n",
        "automation = [v for v in G.nodes if G.nodes[v][\"page_type\"] == \"automation\"]\n",
        "keywords = [v for v in G.nodes if G.nodes[v][\"page_type\"] == \"keywords\"]\n",
        "nlp = [v for v in G.nodes if G.nodes[v][\"page_type\"] == \"nlp\"]"
      ],
      "metadata": {
        "id": "Wo0pjqZrBKAT"
      },
      "execution_count": null,
      "outputs": []
    },
    {
      "cell_type": "markdown",
      "source": [],
      "metadata": {
        "id": "5GbSVuTDBMkH"
      }
    },
    {
      "cell_type": "code",
      "source": [
        "pos = nx.spring_layout(G, k=0.9)"
      ],
      "metadata": {
        "id": "skE91bdnBNqa"
      },
      "execution_count": null,
      "outputs": []
    },
    {
      "cell_type": "markdown",
      "source": [],
      "metadata": {
        "id": "UW4QZkzZBPLy"
      }
    },
    {
      "cell_type": "code",
      "source": [
        "nx.draw_networkx_edges(G, pos, width=3, alpha=0.4,\n",
        "                       edge_color=\"#118AB2\", arrowsize=50, node_size=2000, edgelist=api_links)\n",
        "nx.draw_networkx_edges(G, pos, width=3, alpha=0.4,\n",
        "                       edge_color=\"#EF476F\", arrowsize=50, node_size=2000, edgelist=media_links)\n",
        "nx.draw_networkx_edges(G, pos, width=3, alpha=0.4,\n",
        "                       edge_color=\"#118AB2\", arrowsize=50, node_size=2000, edgelist=analytics_links)\n",
        "nx.draw_networkx_edges(G, pos, width=3, alpha=0.4,\n",
        "                       edge_color=\"#DF21DE\", arrowsize=50, node_size=2000, edgelist=automation_links)\n",
        "nx.draw_networkx_edges(G, pos, width=3, alpha=0.4,\n",
        "                       edge_color=\"#FFD166\", arrowsize=50, node_size=2000, edgelist=keywords_links)\n",
        "nx.draw_networkx_edges(G, pos, width=3, alpha=0.4,\n",
        "                       edge_color=\"#50C878\", arrowsize=50, node_size=2000, edgelist=nlp_links)"
      ],
      "metadata": {
        "id": "Q_2iBSqyBTjf"
      },
      "execution_count": null,
      "outputs": []
    },
    {
      "cell_type": "markdown",
      "source": [],
      "metadata": {
        "id": "ebl4pY2IBUlX"
      }
    },
    {
      "cell_type": "code",
      "source": [
        "nx.draw_networkx_labels(G, pos, font_size=12, font_weight=\"bold\")\n",
        "\n",
        "plt.gca().margins(0.1, 0.1)\n",
        "plt.axis(\"off\")\n",
        "plt.rcParams['figure.figsize'] = [50, 50]\n",
        "plt.rcParams['figure.facecolor'] = 'white'\n",
        "plt.show()"
      ],
      "metadata": {
        "id": "ZVtmx32dBZf0"
      },
      "execution_count": null,
      "outputs": []
    },
    {
      "cell_type": "markdown",
      "source": [],
      "metadata": {
        "id": "toETCzQZBaIf"
      }
    }
  ]
}